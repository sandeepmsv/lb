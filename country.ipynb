{
 "cells": [
  {
   "cell_type": "code",
   "execution_count": 27,
   "id": "9ee88b91",
   "metadata": {},
   "outputs": [],
   "source": [
    "import pandas as pd\n",
    "import numpy as np\n",
    "import ast"
   ]
  },
  {
   "cell_type": "code",
   "execution_count": 28,
   "id": "37a24ae3",
   "metadata": {},
   "outputs": [],
   "source": [
    "df = pd.read_csv('Dataset - Text Similarity (1).csv')"
   ]
  },
  {
   "cell_type": "code",
   "execution_count": 29,
   "id": "fb4f0038",
   "metadata": {},
   "outputs": [
    {
     "data": {
      "text/html": [
       "<div>\n",
       "<style scoped>\n",
       "    .dataframe tbody tr th:only-of-type {\n",
       "        vertical-align: middle;\n",
       "    }\n",
       "\n",
       "    .dataframe tbody tr th {\n",
       "        vertical-align: top;\n",
       "    }\n",
       "\n",
       "    .dataframe thead th {\n",
       "        text-align: right;\n",
       "    }\n",
       "</style>\n",
       "<table border=\"1\" class=\"dataframe\">\n",
       "  <thead>\n",
       "    <tr style=\"text-align: right;\">\n",
       "      <th></th>\n",
       "      <th>userMessage</th>\n",
       "      <th>userMessage2</th>\n",
       "      <th>confidenceLevel</th>\n",
       "      <th>sourceValue</th>\n",
       "      <th>compareValue</th>\n",
       "      <th>Unnamed: 5</th>\n",
       "    </tr>\n",
       "  </thead>\n",
       "  <tbody>\n",
       "    <tr>\n",
       "      <th>0</th>\n",
       "      <td>Beneficiary Name</td>\n",
       "      <td>Check for Consistency of Company Names</td>\n",
       "      <td>0.17</td>\n",
       "      <td>CHANGZHOU ECCO ROLLER CO LTD</td>\n",
       "      <td>['CHANGZHOU ECCO ROLLER CO LTD', 'Certificate ...</td>\n",
       "      <td>NaN</td>\n",
       "    </tr>\n",
       "    <tr>\n",
       "      <th>1</th>\n",
       "      <td>Remitter Name</td>\n",
       "      <td>Check for Consistency of Company Names</td>\n",
       "      <td>0.24</td>\n",
       "      <td>BRITISH INDIA ENGINEERING CORPORATION</td>\n",
       "      <td>['', 'BRITISH INDIA ENGINEERING CORPORATI ONIN...</td>\n",
       "      <td>NaN</td>\n",
       "    </tr>\n",
       "    <tr>\n",
       "      <th>2</th>\n",
       "      <td>Beneficiary Name</td>\n",
       "      <td>Check for Consistency of Company Names</td>\n",
       "      <td>0.35</td>\n",
       "      <td>SHANDONG OPTIMA MACHINERY CO LTD</td>\n",
       "      <td>[Ll|jl il I II 1 I li II I ill II 'll I SHANDO...</td>\n",
       "      <td>NaN</td>\n",
       "    </tr>\n",
       "    <tr>\n",
       "      <th>3</th>\n",
       "      <td>Beneficiary Bank Name</td>\n",
       "      <td>Check for Consistency of Company Names</td>\n",
       "      <td>0.37</td>\n",
       "      <td>BANK OF CHINA (THAI) PUBLIC COMPANY LIMITED</td>\n",
       "      <td>['', 'BANK OF CHINA']</td>\n",
       "      <td>NaN</td>\n",
       "    </tr>\n",
       "    <tr>\n",
       "      <th>4</th>\n",
       "      <td>Beneficiary Name</td>\n",
       "      <td>Check for Consistency of Company Names</td>\n",
       "      <td>0.05</td>\n",
       "      <td>NINGBO LANDSIGN ELECTRIC APPLIANCE CO.LTD.</td>\n",
       "      <td>['L 5', 'NINGBO LANDSIGN ELECTRIC APPLIANCE CO...</td>\n",
       "      <td>NaN</td>\n",
       "    </tr>\n",
       "  </tbody>\n",
       "</table>\n",
       "</div>"
      ],
      "text/plain": [
       "             userMessage                            userMessage2  \\\n",
       "0       Beneficiary Name  Check for Consistency of Company Names   \n",
       "1          Remitter Name  Check for Consistency of Company Names   \n",
       "2       Beneficiary Name  Check for Consistency of Company Names   \n",
       "3  Beneficiary Bank Name  Check for Consistency of Company Names   \n",
       "4       Beneficiary Name  Check for Consistency of Company Names   \n",
       "\n",
       "   confidenceLevel                                  sourceValue  \\\n",
       "0             0.17                 CHANGZHOU ECCO ROLLER CO LTD   \n",
       "1             0.24        BRITISH INDIA ENGINEERING CORPORATION   \n",
       "2             0.35             SHANDONG OPTIMA MACHINERY CO LTD   \n",
       "3             0.37  BANK OF CHINA (THAI) PUBLIC COMPANY LIMITED   \n",
       "4             0.05   NINGBO LANDSIGN ELECTRIC APPLIANCE CO.LTD.   \n",
       "\n",
       "                                        compareValue Unnamed: 5  \n",
       "0  ['CHANGZHOU ECCO ROLLER CO LTD', 'Certificate ...        NaN  \n",
       "1  ['', 'BRITISH INDIA ENGINEERING CORPORATI ONIN...        NaN  \n",
       "2  [Ll|jl il I II 1 I li II I ill II 'll I SHANDO...        NaN  \n",
       "3                              ['', 'BANK OF CHINA']        NaN  \n",
       "4  ['L 5', 'NINGBO LANDSIGN ELECTRIC APPLIANCE CO...        NaN  "
      ]
     },
     "execution_count": 29,
     "metadata": {},
     "output_type": "execute_result"
    }
   ],
   "source": [
    "df.head()"
   ]
  },
  {
   "cell_type": "code",
   "execution_count": 30,
   "id": "f82c71ac",
   "metadata": {},
   "outputs": [],
   "source": [
    "\n",
    "df.drop('Unnamed: 5' , axis =1,inplace = True)"
   ]
  },
  {
   "cell_type": "code",
   "execution_count": 31,
   "id": "7a1a8e79",
   "metadata": {},
   "outputs": [],
   "source": [
    "df.drop('userMessage2' ,axis =1,inplace= True)"
   ]
  },
  {
   "cell_type": "code",
   "execution_count": 32,
   "id": "7c73f550",
   "metadata": {},
   "outputs": [
    {
     "data": {
      "text/html": [
       "<div>\n",
       "<style scoped>\n",
       "    .dataframe tbody tr th:only-of-type {\n",
       "        vertical-align: middle;\n",
       "    }\n",
       "\n",
       "    .dataframe tbody tr th {\n",
       "        vertical-align: top;\n",
       "    }\n",
       "\n",
       "    .dataframe thead th {\n",
       "        text-align: right;\n",
       "    }\n",
       "</style>\n",
       "<table border=\"1\" class=\"dataframe\">\n",
       "  <thead>\n",
       "    <tr style=\"text-align: right;\">\n",
       "      <th></th>\n",
       "      <th>userMessage</th>\n",
       "      <th>confidenceLevel</th>\n",
       "      <th>sourceValue</th>\n",
       "      <th>compareValue</th>\n",
       "    </tr>\n",
       "  </thead>\n",
       "  <tbody>\n",
       "    <tr>\n",
       "      <th>0</th>\n",
       "      <td>Beneficiary Name</td>\n",
       "      <td>0.17</td>\n",
       "      <td>CHANGZHOU ECCO ROLLER CO LTD</td>\n",
       "      <td>['CHANGZHOU ECCO ROLLER CO LTD', 'Certificate ...</td>\n",
       "    </tr>\n",
       "    <tr>\n",
       "      <th>1</th>\n",
       "      <td>Remitter Name</td>\n",
       "      <td>0.24</td>\n",
       "      <td>BRITISH INDIA ENGINEERING CORPORATION</td>\n",
       "      <td>['', 'BRITISH INDIA ENGINEERING CORPORATI ONIN...</td>\n",
       "    </tr>\n",
       "    <tr>\n",
       "      <th>2</th>\n",
       "      <td>Beneficiary Name</td>\n",
       "      <td>0.35</td>\n",
       "      <td>SHANDONG OPTIMA MACHINERY CO LTD</td>\n",
       "      <td>[Ll|jl il I II 1 I li II I ill II 'll I SHANDO...</td>\n",
       "    </tr>\n",
       "    <tr>\n",
       "      <th>3</th>\n",
       "      <td>Beneficiary Bank Name</td>\n",
       "      <td>0.37</td>\n",
       "      <td>BANK OF CHINA (THAI) PUBLIC COMPANY LIMITED</td>\n",
       "      <td>['', 'BANK OF CHINA']</td>\n",
       "    </tr>\n",
       "    <tr>\n",
       "      <th>4</th>\n",
       "      <td>Beneficiary Name</td>\n",
       "      <td>0.05</td>\n",
       "      <td>NINGBO LANDSIGN ELECTRIC APPLIANCE CO.LTD.</td>\n",
       "      <td>['L 5', 'NINGBO LANDSIGN ELECTRIC APPLIANCE CO...</td>\n",
       "    </tr>\n",
       "  </tbody>\n",
       "</table>\n",
       "</div>"
      ],
      "text/plain": [
       "             userMessage  confidenceLevel  \\\n",
       "0       Beneficiary Name             0.17   \n",
       "1          Remitter Name             0.24   \n",
       "2       Beneficiary Name             0.35   \n",
       "3  Beneficiary Bank Name             0.37   \n",
       "4       Beneficiary Name             0.05   \n",
       "\n",
       "                                   sourceValue  \\\n",
       "0                 CHANGZHOU ECCO ROLLER CO LTD   \n",
       "1        BRITISH INDIA ENGINEERING CORPORATION   \n",
       "2             SHANDONG OPTIMA MACHINERY CO LTD   \n",
       "3  BANK OF CHINA (THAI) PUBLIC COMPANY LIMITED   \n",
       "4   NINGBO LANDSIGN ELECTRIC APPLIANCE CO.LTD.   \n",
       "\n",
       "                                        compareValue  \n",
       "0  ['CHANGZHOU ECCO ROLLER CO LTD', 'Certificate ...  \n",
       "1  ['', 'BRITISH INDIA ENGINEERING CORPORATI ONIN...  \n",
       "2  [Ll|jl il I II 1 I li II I ill II 'll I SHANDO...  \n",
       "3                              ['', 'BANK OF CHINA']  \n",
       "4  ['L 5', 'NINGBO LANDSIGN ELECTRIC APPLIANCE CO...  "
      ]
     },
     "execution_count": 32,
     "metadata": {},
     "output_type": "execute_result"
    }
   ],
   "source": [
    "df.head()"
   ]
  },
  {
   "cell_type": "code",
   "execution_count": null,
   "id": "2120845f",
   "metadata": {},
   "outputs": [],
   "source": []
  },
  {
   "cell_type": "code",
   "execution_count": 33,
   "id": "0b82bd6a",
   "metadata": {
    "scrolled": true
   },
   "outputs": [
    {
     "data": {
      "text/plain": [
       "array(['Beneficiary Name', 'Remitter Name', 'Beneficiary Bank Name',\n",
       "       'Comodity description matches between CRL and DGFT Site',\n",
       "       'Beneficiary Bank country', 'Beneficiary Country',\n",
       "       'Amount in Words',\n",
       "       'Remitter Name of CRL is present in Branch address of icegate',\n",
       "       'Remitter Name of CRL check with companyname of ICEGATE',\n",
       "       'Goods Description',\n",
       "       'Beneficiary Bank Name check of CRL and IBAN Validator website',\n",
       "       'Country of Origin'], dtype=object)"
      ]
     },
     "execution_count": 33,
     "metadata": {},
     "output_type": "execute_result"
    }
   ],
   "source": [
    "df['userMessage'].unique()"
   ]
  },
  {
   "cell_type": "code",
   "execution_count": 34,
   "id": "cfa3b2df",
   "metadata": {},
   "outputs": [],
   "source": [
    "conf = df[df['userMessage'] == 'Beneficiary Bank country' ]"
   ]
  },
  {
   "cell_type": "code",
   "execution_count": 35,
   "id": "70aa036c",
   "metadata": {},
   "outputs": [
    {
     "data": {
      "text/plain": [
       "array(['CHINA', 'U.A.E.', 'US PACIFIC ISLANDS (US)', 'HONG KONG', 'DUBAI',\n",
       "       'UNITED STATES', 'SINGAPORE', 'CANADA', 'UNITED ARAB EMIRATES',\n",
       "       'TAIWAN', 'UNITED KINGDOM', 'SOUTH KOREA', 'SWEDEN', 'ZAMBIA',\n",
       "       'INDIA', 'UK', 'Singapore', 'Hong Kong'], dtype=object)"
      ]
     },
     "execution_count": 35,
     "metadata": {},
     "output_type": "execute_result"
    }
   ],
   "source": [
    "conf['sourceValue'].unique()"
   ]
  },
  {
   "cell_type": "code",
   "execution_count": 36,
   "id": "cff53d51",
   "metadata": {},
   "outputs": [
    {
     "data": {
      "text/plain": [
       "array([\"['HongKong']\", \"['TANZANIA']\", \"['Hong Kong']\", \"['USA']\",\n",
       "       \"['Singapore']\", \"['United Arab Emirates']\", \"['Germany']\",\n",
       "       \"['CHINA']\", \"['CZECH REPUBLIC']\", \"['CANADA', 'ITALY']\",\n",
       "       \"['U.A.E.']\", \"['HK']\", \"['U.A.E']\", \"['Taiwan.PIN42743']\",\n",
       "       \"['', 'U.A.E.']\", \"['HONGKONG']\", \"['HK', 'CHINA']\", \"['UK']\",\n",
       "       \"['UAE']\", \"['HONG KONG']\",\n",
       "       \"['Hong Kong', 'Hong Kong', 'Hong Kong', 'Hong Kong', 'Hong Kong', 'Hong Kong', 'Hong Kong']\",\n",
       "       \"['Hong Kong', 'Hong Kong']\", \"['CANADA']\", \"['KOREA']\",\n",
       "       \"['CHINA', 'CHINA']\", \"['CHW']\", \"['ESTONIA']\", \"['China']\",\n",
       "       \"['PROVINCE.CHINA']\", \"['ITALY']\", \"['Switzerland']\",\n",
       "       \"['Singapore', 'China']\", \"['UAE', 'United Arab Emirates']\",\n",
       "       \"['JAPAN']\", \"['England']\"], dtype=object)"
      ]
     },
     "execution_count": 36,
     "metadata": {},
     "output_type": "execute_result"
    }
   ],
   "source": [
    "conf['compareValue'].unique()"
   ]
  },
  {
   "cell_type": "code",
   "execution_count": 37,
   "id": "fcfb448b",
   "metadata": {},
   "outputs": [
    {
     "data": {
      "text/html": [
       "<div>\n",
       "<style scoped>\n",
       "    .dataframe tbody tr th:only-of-type {\n",
       "        vertical-align: middle;\n",
       "    }\n",
       "\n",
       "    .dataframe tbody tr th {\n",
       "        vertical-align: top;\n",
       "    }\n",
       "\n",
       "    .dataframe thead th {\n",
       "        text-align: right;\n",
       "    }\n",
       "</style>\n",
       "<table border=\"1\" class=\"dataframe\">\n",
       "  <thead>\n",
       "    <tr style=\"text-align: right;\">\n",
       "      <th></th>\n",
       "      <th>userMessage</th>\n",
       "      <th>confidenceLevel</th>\n",
       "      <th>sourceValue</th>\n",
       "      <th>compareValue</th>\n",
       "    </tr>\n",
       "  </thead>\n",
       "  <tbody>\n",
       "    <tr>\n",
       "      <th>6</th>\n",
       "      <td>Beneficiary Bank country</td>\n",
       "      <td>0.13</td>\n",
       "      <td>CHINA</td>\n",
       "      <td>['HongKong']</td>\n",
       "    </tr>\n",
       "    <tr>\n",
       "      <th>25</th>\n",
       "      <td>Beneficiary Bank country</td>\n",
       "      <td>0.13</td>\n",
       "      <td>U.A.E.</td>\n",
       "      <td>['TANZANIA']</td>\n",
       "    </tr>\n",
       "    <tr>\n",
       "      <th>32</th>\n",
       "      <td>Beneficiary Bank country</td>\n",
       "      <td>0.12</td>\n",
       "      <td>CHINA</td>\n",
       "      <td>['Hong Kong']</td>\n",
       "    </tr>\n",
       "    <tr>\n",
       "      <th>35</th>\n",
       "      <td>Beneficiary Bank country</td>\n",
       "      <td>0.12</td>\n",
       "      <td>CHINA</td>\n",
       "      <td>['Hong Kong']</td>\n",
       "    </tr>\n",
       "    <tr>\n",
       "      <th>42</th>\n",
       "      <td>Beneficiary Bank country</td>\n",
       "      <td>0.29</td>\n",
       "      <td>US PACIFIC ISLANDS (US)</td>\n",
       "      <td>['USA']</td>\n",
       "    </tr>\n",
       "    <tr>\n",
       "      <th>...</th>\n",
       "      <td>...</td>\n",
       "      <td>...</td>\n",
       "      <td>...</td>\n",
       "      <td>...</td>\n",
       "    </tr>\n",
       "    <tr>\n",
       "      <th>513</th>\n",
       "      <td>Beneficiary Bank country</td>\n",
       "      <td>0.00</td>\n",
       "      <td>UK</td>\n",
       "      <td>['England']</td>\n",
       "    </tr>\n",
       "    <tr>\n",
       "      <th>518</th>\n",
       "      <td>Beneficiary Bank country</td>\n",
       "      <td>0.22</td>\n",
       "      <td>Singapore</td>\n",
       "      <td>['CHINA']</td>\n",
       "    </tr>\n",
       "    <tr>\n",
       "      <th>529</th>\n",
       "      <td>Beneficiary Bank country</td>\n",
       "      <td>0.25</td>\n",
       "      <td>UNITED ARAB EMIRATES</td>\n",
       "      <td>['CHINA']</td>\n",
       "    </tr>\n",
       "    <tr>\n",
       "      <th>535</th>\n",
       "      <td>Beneficiary Bank country</td>\n",
       "      <td>0.89</td>\n",
       "      <td>Hong Kong</td>\n",
       "      <td>['HONGKONG']</td>\n",
       "    </tr>\n",
       "    <tr>\n",
       "      <th>538</th>\n",
       "      <td>Beneficiary Bank country</td>\n",
       "      <td>0.40</td>\n",
       "      <td>DUBAI</td>\n",
       "      <td>['UAE']</td>\n",
       "    </tr>\n",
       "  </tbody>\n",
       "</table>\n",
       "<p>72 rows × 4 columns</p>\n",
       "</div>"
      ],
      "text/plain": [
       "                  userMessage  confidenceLevel              sourceValue  \\\n",
       "6    Beneficiary Bank country             0.13                    CHINA   \n",
       "25   Beneficiary Bank country             0.13                   U.A.E.   \n",
       "32   Beneficiary Bank country             0.12                    CHINA   \n",
       "35   Beneficiary Bank country             0.12                    CHINA   \n",
       "42   Beneficiary Bank country             0.29  US PACIFIC ISLANDS (US)   \n",
       "..                        ...              ...                      ...   \n",
       "513  Beneficiary Bank country             0.00                       UK   \n",
       "518  Beneficiary Bank country             0.22                Singapore   \n",
       "529  Beneficiary Bank country             0.25     UNITED ARAB EMIRATES   \n",
       "535  Beneficiary Bank country             0.89                Hong Kong   \n",
       "538  Beneficiary Bank country             0.40                    DUBAI   \n",
       "\n",
       "      compareValue  \n",
       "6     ['HongKong']  \n",
       "25    ['TANZANIA']  \n",
       "32   ['Hong Kong']  \n",
       "35   ['Hong Kong']  \n",
       "42         ['USA']  \n",
       "..             ...  \n",
       "513    ['England']  \n",
       "518      ['CHINA']  \n",
       "529      ['CHINA']  \n",
       "535   ['HONGKONG']  \n",
       "538        ['UAE']  \n",
       "\n",
       "[72 rows x 4 columns]"
      ]
     },
     "execution_count": 37,
     "metadata": {},
     "output_type": "execute_result"
    }
   ],
   "source": [
    "conf"
   ]
  },
  {
   "cell_type": "code",
   "execution_count": 38,
   "id": "a51498e0",
   "metadata": {},
   "outputs": [],
   "source": [
    "conf = conf.applymap(lambda s: s.lower() if isinstance(s, str) else s)"
   ]
  },
  {
   "cell_type": "code",
   "execution_count": 4,
   "id": "beebe648",
   "metadata": {},
   "outputs": [
    {
     "ename": "NameError",
     "evalue": "name 'conf' is not defined",
     "output_type": "error",
     "traceback": [
      "\u001b[1;31m---------------------------------------------------------------------------\u001b[0m",
      "\u001b[1;31mNameError\u001b[0m                                 Traceback (most recent call last)",
      "\u001b[1;32m~\\AppData\\Local\\Temp\\ipykernel_5812\\2486042371.py\u001b[0m in \u001b[0;36m<module>\u001b[1;34m\u001b[0m\n\u001b[1;32m----> 1\u001b[1;33m \u001b[0mconf\u001b[0m\u001b[1;33m.\u001b[0m\u001b[0mhead\u001b[0m\u001b[1;33m(\u001b[0m\u001b[1;36m20\u001b[0m\u001b[1;33m)\u001b[0m\u001b[1;33m\u001b[0m\u001b[1;33m\u001b[0m\u001b[0m\n\u001b[0m",
      "\u001b[1;31mNameError\u001b[0m: name 'conf' is not defined"
     ]
    }
   ],
   "source": [
    "conf.head(20)"
   ]
  },
  {
   "cell_type": "code",
   "execution_count": 40,
   "id": "92d2c160",
   "metadata": {},
   "outputs": [],
   "source": [
    "conf = conf.reset_index(drop=True)"
   ]
  },
  {
   "cell_type": "code",
   "execution_count": 41,
   "id": "e189528e",
   "metadata": {},
   "outputs": [],
   "source": [
    "conf['compareValue']=conf['compareValue'].str.replace('\\'' , '') "
   ]
  },
  {
   "cell_type": "code",
   "execution_count": 42,
   "id": "cf8944c0",
   "metadata": {},
   "outputs": [],
   "source": [
    "to_list = lambda x: x.strip(\"[]\").split(\", \") if isinstance(x, str) else x"
   ]
  },
  {
   "cell_type": "code",
   "execution_count": 43,
   "id": "0b193c8b",
   "metadata": {},
   "outputs": [],
   "source": [
    "conf['compareValue'] = conf['compareValue'].apply(to_list)"
   ]
  },
  {
   "cell_type": "code",
   "execution_count": 44,
   "id": "224c2b97",
   "metadata": {},
   "outputs": [
    {
     "data": {
      "text/plain": [
       "0      [hongkong]\n",
       "1      [tanzania]\n",
       "2     [hong kong]\n",
       "3     [hong kong]\n",
       "4           [usa]\n",
       "         ...     \n",
       "67      [england]\n",
       "68        [china]\n",
       "69        [china]\n",
       "70     [hongkong]\n",
       "71          [uae]\n",
       "Name: compareValue, Length: 72, dtype: object"
      ]
     },
     "execution_count": 44,
     "metadata": {},
     "output_type": "execute_result"
    }
   ],
   "source": [
    "conf['compareValue']"
   ]
  },
  {
   "cell_type": "code",
   "execution_count": 45,
   "id": "3aea3635",
   "metadata": {},
   "outputs": [
    {
     "ename": "ModuleNotFoundError",
     "evalue": "No module named 'geopy'",
     "output_type": "error",
     "traceback": [
      "\u001b[1;31m---------------------------------------------------------------------------\u001b[0m",
      "\u001b[1;31mModuleNotFoundError\u001b[0m                       Traceback (most recent call last)",
      "\u001b[1;32m~\\AppData\\Local\\Temp\\ipykernel_3044\\3163945917.py\u001b[0m in \u001b[0;36m<module>\u001b[1;34m\u001b[0m\n\u001b[1;32m----> 1\u001b[1;33m \u001b[1;32mfrom\u001b[0m \u001b[0mgeopy\u001b[0m\u001b[1;33m.\u001b[0m\u001b[0mgeocoders\u001b[0m \u001b[1;32mimport\u001b[0m \u001b[0mNominatim\u001b[0m\u001b[1;33m\u001b[0m\u001b[1;33m\u001b[0m\u001b[0m\n\u001b[0m\u001b[0;32m      2\u001b[0m \u001b[1;32mfrom\u001b[0m \u001b[0mgeopy\u001b[0m\u001b[1;33m.\u001b[0m\u001b[0mdistance\u001b[0m \u001b[1;32mimport\u001b[0m \u001b[0mgeodesic\u001b[0m\u001b[1;33m\u001b[0m\u001b[1;33m\u001b[0m\u001b[0m\n\u001b[0;32m      3\u001b[0m \u001b[1;32mfrom\u001b[0m \u001b[0mfuzzywuzzy\u001b[0m \u001b[1;32mimport\u001b[0m \u001b[0mfuzz\u001b[0m\u001b[1;33m\u001b[0m\u001b[1;33m\u001b[0m\u001b[0m\n",
      "\u001b[1;31mModuleNotFoundError\u001b[0m: No module named 'geopy'"
     ]
    }
   ],
   "source": [
    "from geopy.geocoders import Nominatim\n",
    "from geopy.distance import geodesic\n",
    "from fuzzywuzzy import fuzz"
   ]
  },
  {
   "cell_type": "code",
   "execution_count": 46,
   "id": "d7a9ce8d",
   "metadata": {},
   "outputs": [],
   "source": [
    "import requests"
   ]
  },
  {
   "cell_type": "code",
   "execution_count": 3,
   "id": "2e60b1be",
   "metadata": {},
   "outputs": [
    {
     "ename": "NameError",
     "evalue": "name 'conf' is not defined",
     "output_type": "error",
     "traceback": [
      "\u001b[1;31m---------------------------------------------------------------------------\u001b[0m",
      "\u001b[1;31mNameError\u001b[0m                                 Traceback (most recent call last)",
      "\u001b[1;32m~\\AppData\\Local\\Temp\\ipykernel_5812\\1286201796.py\u001b[0m in \u001b[0;36m<module>\u001b[1;34m\u001b[0m\n\u001b[1;32m----> 1\u001b[1;33m \u001b[0mconf\u001b[0m\u001b[1;33m\u001b[0m\u001b[1;33m\u001b[0m\u001b[0m\n\u001b[0m",
      "\u001b[1;31mNameError\u001b[0m: name 'conf' is not defined"
     ]
    }
   ],
   "source": [
    "conf"
   ]
  },
  {
   "cell_type": "code",
   "execution_count": 48,
   "id": "edb28a87",
   "metadata": {},
   "outputs": [],
   "source": [
    "from math import radians, sin, cos, sqrt, atan2\n",
    "def similarity_metric(sourceValue ,compareValue):\n",
    "    # Use the OpenStreetMap Nominatim API to obtain the latitude and longitude of the source location\n",
    "    source_url = f\"https://nominatim.openstreetmap.org/search?q={sourceValue}&format=json&limit=1\"\n",
    "    source_data = requests.get(source_url).json()\n",
    "    if len(source_data) > 0:\n",
    "        source_lat = source_data[0][\"lat\"]\n",
    "        source_lon = source_data[0][\"lon\"]\n",
    "    else:\n",
    "        print(f\"No results found for {sourceValue}\")\n",
    "        exit()\n",
    "\n",
    "    # Use the OpenStreetMap Nominatim API to obtain the latitude and longitude of the comparison location\n",
    "    compare_url = f\"https://nominatim.openstreetmap.org/search?q={compareValue}&format=json&limit=1\"\n",
    "    compare_data = requests.get(compare_url).json()\n",
    "    if len(compare_data) > 0:\n",
    "        compare_lat = compare_data[0][\"lat\"]\n",
    "        compare_lon = compare_data[0][\"lon\"]\n",
    "    else:\n",
    "        print(f\"No results found for {compareValue}\")\n",
    "        exit()\n",
    "\n",
    "    # Calculate the distance between the two locations using the Haversine formula\n",
    "    R = 6371  # Earth radius in kilometers\n",
    "    lat1 = radians(float(source_lat))\n",
    "    lon1 = radians(float(source_lon))\n",
    "    lat2 = radians(float(compare_lat))\n",
    "    lon2 = radians(float(compare_lon))\n",
    "    dlat = lat2 - lat1\n",
    "    dlon = lon2 - lon1\n",
    "    a = sin(dlat / 2) ** 2 + cos(lat1) * cos(lat2) * sin(dlon / 2) ** 2\n",
    "    c = 2 * atan2(sqrt(a), sqrt(1 - a))\n",
    "    distance = R * c\n",
    "    # Compute the similarity score based on the distance between the two locations\n",
    "    max_distance = 20000  # Maximum distance in kilometers for a perfect match\n",
    "    similarity_score = 100 - 100 * min(distance / max_distance, 1.0)\n",
    "    return similarity_score\n",
    "  \n",
    "    \n",
    "    \n",
    "    "
   ]
  },
  {
   "cell_type": "code",
   "execution_count": null,
   "id": "a37ac0ba",
   "metadata": {},
   "outputs": [],
   "source": []
  },
  {
   "cell_type": "code",
   "execution_count": 49,
   "id": "ff4ed1af",
   "metadata": {},
   "outputs": [],
   "source": [
    "import requests\n"
   ]
  },
  {
   "cell_type": "code",
   "execution_count": 50,
   "id": "9c5260f9",
   "metadata": {},
   "outputs": [],
   "source": [
    "import requests\n",
    "from math import radians, sin, cos, sqrt, atan2"
   ]
  },
  {
   "cell_type": "code",
   "execution_count": 51,
   "id": "b48eaf22",
   "metadata": {},
   "outputs": [],
   "source": [
    "sourceValue = \"sourceValue\"\n",
    "compareValue = \"compareValue\"\n"
   ]
  },
  {
   "cell_type": "code",
   "execution_count": 52,
   "id": "6f6cf440",
   "metadata": {},
   "outputs": [
    {
     "name": "stdout",
     "output_type": "stream",
     "text": [
      "[91.64276136655901]\n",
      "[57.14792061330256]\n",
      "[91.64276136655901]\n",
      "[91.64276136655901]\n",
      "[43.502617446683466]\n",
      "[81.28537334730454]\n",
      "[74.85191299566648]\n",
      "[63.280504212297814]\n",
      "[100.0]\n",
      "[100.0]\n",
      "[64.50581720332255]\n",
      "[55.39082055153266]\n",
      "[55.39082055153266, 61.832576493142135]\n",
      "[74.85191299566648]\n",
      "[91.67125561557651]\n",
      "[91.67125561557651]\n",
      "[74.85191299566648]\n",
      "[91.64276136655901]\n",
      "No results found for taiwan.pin42743\n"
     ]
    },
    {
     "ename": "UnboundLocalError",
     "evalue": "local variable 'compare_lat' referenced before assignment",
     "output_type": "error",
     "traceback": [
      "\u001b[1;31m---------------------------------------------------------------------------\u001b[0m",
      "\u001b[1;31mUnboundLocalError\u001b[0m                         Traceback (most recent call last)",
      "\u001b[1;32m~\\AppData\\Local\\Temp\\ipykernel_3044\\542940998.py\u001b[0m in \u001b[0;36m<module>\u001b[1;34m\u001b[0m\n\u001b[0;32m      5\u001b[0m         \u001b[0ml\u001b[0m \u001b[1;33m=\u001b[0m \u001b[1;33m[\u001b[0m\u001b[1;33m]\u001b[0m\u001b[1;33m\u001b[0m\u001b[1;33m\u001b[0m\u001b[0m\n\u001b[0;32m      6\u001b[0m         \u001b[1;32mfor\u001b[0m \u001b[0mk\u001b[0m \u001b[1;32min\u001b[0m \u001b[0mrange\u001b[0m\u001b[1;33m(\u001b[0m\u001b[0mlen\u001b[0m\u001b[1;33m(\u001b[0m\u001b[0mj\u001b[0m\u001b[1;33m)\u001b[0m\u001b[1;33m)\u001b[0m\u001b[1;33m:\u001b[0m\u001b[1;33m\u001b[0m\u001b[1;33m\u001b[0m\u001b[0m\n\u001b[1;32m----> 7\u001b[1;33m             \u001b[0ml\u001b[0m\u001b[1;33m.\u001b[0m\u001b[0mappend\u001b[0m\u001b[1;33m(\u001b[0m\u001b[0msimilarity_metric\u001b[0m\u001b[1;33m(\u001b[0m\u001b[0mi\u001b[0m\u001b[1;33m,\u001b[0m\u001b[0mj\u001b[0m\u001b[1;33m[\u001b[0m\u001b[0mk\u001b[0m\u001b[1;33m]\u001b[0m\u001b[1;33m)\u001b[0m\u001b[1;33m)\u001b[0m\u001b[1;33m\u001b[0m\u001b[1;33m\u001b[0m\u001b[0m\n\u001b[0m\u001b[0;32m      8\u001b[0m             \u001b[0mprint\u001b[0m\u001b[1;33m(\u001b[0m\u001b[0ml\u001b[0m\u001b[1;33m)\u001b[0m\u001b[1;33m\u001b[0m\u001b[1;33m\u001b[0m\u001b[0m\n\u001b[0;32m      9\u001b[0m         \u001b[0mt\u001b[0m\u001b[1;33m.\u001b[0m\u001b[0mappend\u001b[0m\u001b[1;33m(\u001b[0m\u001b[0ml\u001b[0m\u001b[1;33m)\u001b[0m\u001b[1;33m\u001b[0m\u001b[1;33m\u001b[0m\u001b[0m\n",
      "\u001b[1;32m~\\AppData\\Local\\Temp\\ipykernel_3044\\542401485.py\u001b[0m in \u001b[0;36msimilarity_metric\u001b[1;34m(sourceValue, compareValue)\u001b[0m\n\u001b[0;32m     25\u001b[0m     \u001b[0mlat1\u001b[0m \u001b[1;33m=\u001b[0m \u001b[0mradians\u001b[0m\u001b[1;33m(\u001b[0m\u001b[0mfloat\u001b[0m\u001b[1;33m(\u001b[0m\u001b[0msource_lat\u001b[0m\u001b[1;33m)\u001b[0m\u001b[1;33m)\u001b[0m\u001b[1;33m\u001b[0m\u001b[1;33m\u001b[0m\u001b[0m\n\u001b[0;32m     26\u001b[0m     \u001b[0mlon1\u001b[0m \u001b[1;33m=\u001b[0m \u001b[0mradians\u001b[0m\u001b[1;33m(\u001b[0m\u001b[0mfloat\u001b[0m\u001b[1;33m(\u001b[0m\u001b[0msource_lon\u001b[0m\u001b[1;33m)\u001b[0m\u001b[1;33m)\u001b[0m\u001b[1;33m\u001b[0m\u001b[1;33m\u001b[0m\u001b[0m\n\u001b[1;32m---> 27\u001b[1;33m     \u001b[0mlat2\u001b[0m \u001b[1;33m=\u001b[0m \u001b[0mradians\u001b[0m\u001b[1;33m(\u001b[0m\u001b[0mfloat\u001b[0m\u001b[1;33m(\u001b[0m\u001b[0mcompare_lat\u001b[0m\u001b[1;33m)\u001b[0m\u001b[1;33m)\u001b[0m\u001b[1;33m\u001b[0m\u001b[1;33m\u001b[0m\u001b[0m\n\u001b[0m\u001b[0;32m     28\u001b[0m     \u001b[0mlon2\u001b[0m \u001b[1;33m=\u001b[0m \u001b[0mradians\u001b[0m\u001b[1;33m(\u001b[0m\u001b[0mfloat\u001b[0m\u001b[1;33m(\u001b[0m\u001b[0mcompare_lon\u001b[0m\u001b[1;33m)\u001b[0m\u001b[1;33m)\u001b[0m\u001b[1;33m\u001b[0m\u001b[1;33m\u001b[0m\u001b[0m\n\u001b[0;32m     29\u001b[0m     \u001b[0mdlat\u001b[0m \u001b[1;33m=\u001b[0m \u001b[0mlat2\u001b[0m \u001b[1;33m-\u001b[0m \u001b[0mlat1\u001b[0m\u001b[1;33m\u001b[0m\u001b[1;33m\u001b[0m\u001b[0m\n",
      "\u001b[1;31mUnboundLocalError\u001b[0m: local variable 'compare_lat' referenced before assignment"
     ]
    }
   ],
   "source": [
    "t = []\n",
    "l = []\n",
    "for i in conf['sourceValue']:\n",
    "    for j in conf['compareValue']:\n",
    "        l = []\n",
    "        for k in range(len(j)):\n",
    "            l.append(similarity_metric(i,j[k]))\n",
    "            print(l)\n",
    "        t.append(l)\n",
    "conf['similarity'] = t\n",
    "\n",
    "\n",
    "    \n",
    "        \n",
    "            \n",
    "            \n",
    "        "
   ]
  },
  {
   "cell_type": "code",
   "execution_count": 2,
   "id": "add380a8",
   "metadata": {},
   "outputs": [
    {
     "ename": "NameError",
     "evalue": "name 'conf' is not defined",
     "output_type": "error",
     "traceback": [
      "\u001b[1;31m---------------------------------------------------------------------------\u001b[0m",
      "\u001b[1;31mNameError\u001b[0m                                 Traceback (most recent call last)",
      "\u001b[1;32m~\\AppData\\Local\\Temp\\ipykernel_5812\\3401197345.py\u001b[0m in \u001b[0;36m<module>\u001b[1;34m\u001b[0m\n\u001b[1;32m----> 1\u001b[1;33m \u001b[0mconf\u001b[0m\u001b[1;33m.\u001b[0m\u001b[0mhead\u001b[0m\u001b[1;33m(\u001b[0m\u001b[1;33m)\u001b[0m\u001b[1;33m\u001b[0m\u001b[1;33m\u001b[0m\u001b[0m\n\u001b[0m",
      "\u001b[1;31mNameError\u001b[0m: name 'conf' is not defined"
     ]
    }
   ],
   "source": [
    "conf.head()"
   ]
  },
  {
   "cell_type": "code",
   "execution_count": null,
   "id": "c277589b",
   "metadata": {},
   "outputs": [],
   "source": [
    "import requests\n",
    "from math import radians, sin, cos, sqrt, atan2\n",
    "\n",
    "# Define the names of the two locations to compare\n",
    "sourceValue = \"Dubai\"\n",
    "compareValue = \"United Arab Emirates\"\n",
    "\n",
    "# Use the OpenStreetMap Nominatim API to obtain the latitude and longitude of the source location\n",
    "source_url = f\"https://nominatim.openstreetmap.org/search?q={sourceValue}&format=json&limit=1\"\n",
    "source_data = requests.get(source_url).json()\n",
    "if len(source_data) > 0:\n",
    "    source_lat = source_data[0][\"lat\"]\n",
    "    source_lon = source_data[0][\"lon\"]\n",
    "else:\n",
    "    print(f\"No results found for {sourceValue}\")\n",
    "    exit()\n",
    "\n",
    "# Use the OpenStreetMap Nominatim API to obtain the latitude and longitude of the comparison location\n",
    "compare_url = f\"https://nominatim.openstreetmap.org/search?q={compareValue}&format=json&limit=1\"\n",
    "compare_data = requests.get(compare_url).json()\n",
    "if len(compare_data) > 0:\n",
    "    compare_lat = compare_data[0][\"lat\"]\n",
    "    compare_lon = compare_data[0][\"lon\"]\n",
    "else:\n",
    "    print(f\"No results found for {compareValue}\")\n",
    "    exit()\n",
    "\n",
    "# Calculate the distance between the two locations using the Haversine formula\n",
    "R = 6371  # Earth radius in kilometers\n",
    "\n",
    "lat1 = radians(float(source_lat))\n",
    "lon1 = radians(float(source_lon))\n",
    "lat2 = radians(float(compare_lat))\n",
    "lon2 = radians(float(compare_lon))\n",
    "\n",
    "dlat = lat2 - lat1\n",
    "dlon = lon2 - lon1\n",
    "\n",
    "a = sin(dlat / 2) ** 2 + cos(lat1) * cos(lat2) * sin(dlon / 2) ** 2\n",
    "c = 2 * atan2(sqrt(a), sqrt(1 - a))\n",
    "\n",
    "distance = R * c\n",
    "\n",
    "# Compute the similarity score based on the distance between the two locations\n",
    "max_distance = 20000  # Maximum distance in kilometers for a perfect match\n",
    "similarity_score = 100 - 100 * min(distance / max_distance, 1.0)\n",
    "\n",
    "print(similarity_score)\n"
   ]
  },
  {
   "cell_type": "code",
   "execution_count": null,
   "id": "295aa020",
   "metadata": {},
   "outputs": [],
   "source": []
  },
  {
   "cell_type": "code",
   "execution_count": null,
   "id": "46c0d7a4",
   "metadata": {},
   "outputs": [],
   "source": []
  },
  {
   "cell_type": "code",
   "execution_count": null,
   "id": "8ced8c93",
   "metadata": {},
   "outputs": [],
   "source": []
  },
  {
   "cell_type": "code",
   "execution_count": null,
   "id": "53e88ca1",
   "metadata": {},
   "outputs": [],
   "source": []
  },
  {
   "cell_type": "code",
   "execution_count": null,
   "id": "0d5081d1",
   "metadata": {},
   "outputs": [],
   "source": []
  },
  {
   "cell_type": "code",
   "execution_count": null,
   "id": "4e2223d3",
   "metadata": {},
   "outputs": [],
   "source": []
  },
  {
   "cell_type": "code",
   "execution_count": null,
   "id": "bea8022b",
   "metadata": {},
   "outputs": [],
   "source": []
  },
  {
   "cell_type": "code",
   "execution_count": null,
   "id": "d1f23690",
   "metadata": {},
   "outputs": [],
   "source": []
  },
  {
   "cell_type": "code",
   "execution_count": null,
   "id": "2aee998c",
   "metadata": {},
   "outputs": [],
   "source": []
  }
 ],
 "metadata": {
  "kernelspec": {
   "display_name": "Python 3 (ipykernel)",
   "language": "python",
   "name": "python3"
  },
  "language_info": {
   "codemirror_mode": {
    "name": "ipython",
    "version": 3
   },
   "file_extension": ".py",
   "mimetype": "text/x-python",
   "name": "python",
   "nbconvert_exporter": "python",
   "pygments_lexer": "ipython3",
   "version": "3.9.13"
  }
 },
 "nbformat": 4,
 "nbformat_minor": 5
}
